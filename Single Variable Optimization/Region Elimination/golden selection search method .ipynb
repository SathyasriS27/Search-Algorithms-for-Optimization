{
 "cells": [
  {
   "cell_type": "code",
   "execution_count": 2,
   "metadata": {},
   "outputs": [
    {
     "name": "stdout",
     "output_type": "stream",
     "text": [
      "lower boundary =-3\n",
      "upper boundary =1\n",
      "total no of iterations= 3\n",
      "\n",
      "iteration no = 1\n",
      "w1=0.618000,w2=0.382000\n",
      "fw(w1)>fw(w2)ie -1.714069 > -11.331396\n",
      "new intervals (0.000000,0.618000)\n",
      "\n",
      "iteration no = 2\n",
      "w1=0.381924,w2=0.236076\n",
      "fw(w1)>fw(w2)ie -11.336678 > -25.358036\n",
      "new intervals (0.000000,0.381924)\n",
      "\n",
      "iteration no = 3\n",
      "w1=0.236029,w2=0.145895\n",
      "fw(w1)>fw(w2)ie -25.363985 > -38.862064\n",
      "new intervals (0.000000,0.236029)\n",
      "aw=0.000000\n",
      "bw=0.236029\n",
      "lw=0.236029\n",
      "0.000000<w<0.236029\n",
      "-3.000000<x<-2.055884\n",
      "minimum lies in (-3.000000,-2.055884)\n"
     ]
    }
   ],
   "source": [
    "#Golden selection search - interval is given - no. of iterations is not given , interval is given \n",
    "import math as m\n",
    "def f(x):\n",
    "    f=(2*x)-(1.71*(x**2))+(1.1*(x**3))-(0.25*(x**4))\n",
    "    return f\n",
    "a=int(input(\"lower boundary =\"))\n",
    "b=int(input(\"upper boundary =\"))\n",
    "n=int(m.log(1/(b-a),0.618))+1\n",
    "print('total no of iterations=', n)\n",
    "def fw(w):\n",
    "    x= a+w*(b-a)\n",
    "    return f(x)\n",
    "aw=0\n",
    "bw=1\n",
    "lw=bw-aw\n",
    "k=1\n",
    "while k<=n:\n",
    "    print(\"\")\n",
    "    print('iteration no =',k)\n",
    "    w1=aw+(0.618)*lw\n",
    "    w2=bw-(0.618)*lw\n",
    "    print('w1=%f,w2=%f' %(w1,w2))\n",
    "    if fw(w1)>fw(w2):\n",
    "        bw=w1\n",
    "        print('fw(w1)>fw(w2)ie %f > %f' %(fw(w1),fw(w2)))\n",
    "    elif fw(w1)<f(w2):\n",
    "        aw=w2\n",
    "        print('fw(w1)<f(w2)ie %f < %f' %(fw(w1),fw(w2)))\n",
    "    lw=bw-aw\n",
    "    print('new intervals (%f,%f)'%(aw,bw))\n",
    "    k=k+1\n",
    "print(\"aw=%f\" %(aw))\n",
    "print(\"bw=%f\" %(bw))\n",
    "print(\"lw=%f\" %(lw))\n",
    "print('%f<w<%f' %(aw,bw))\n",
    "print('%f<x<%f' %(aw*(b-a)+a,bw*(b-a)+a))\n",
    "print('minimum lies in (%f,%f)' %(aw*(b-a)+a,bw*(b-a)+a) )\n"
   ]
  },
  {
   "cell_type": "code",
   "execution_count": 2,
   "metadata": {},
   "outputs": [
    {
     "name": "stdout",
     "output_type": "stream",
     "text": [
      "lower boundary =1\n",
      "upper boundary =4\n",
      "total no of iterations =2\n",
      "\n",
      "iteration no = 1\n",
      "w1=0.618000,w2=0.382000\n",
      "fw(w1)>fw(w2)ie -11.921695 > -16.045131\n",
      "new intervals (0.000000,0.618000)\n",
      "\n",
      "iteration no = 2\n",
      "w1=0.381924,w2=0.236076\n",
      "fw(w1)<f(w2)ie -16.042819 < -7.373658\n",
      "new intervals (0.236076,0.618000)\n",
      "aw=0.236076\n",
      "bw=0.618000\n",
      "lw=0.381924\n",
      "0.236076<w<0.618000\n",
      "1.708228<x<2.854000\n",
      "minimum lies in (1.708228,2.854000)\n"
     ]
    }
   ],
   "source": [
    "#Golden selection search - interval is given , no. of iteraations is given , interval is given\n",
    "import math as m\n",
    "def f(x):\n",
    "    f=x**4 -5*x**3 + 2*m.exp(x)-5*(m.cos(3*x))\n",
    "    return f\n",
    "a=int(input(\"lower boundary =\"))\n",
    "b=int(input(\"upper boundary =\"))\n",
    "n=int(input(\"total no of iterations =\"))\n",
    "def fw(w):\n",
    "    x= a+w*(b-a)\n",
    "    return f(x)\n",
    "aw=0\n",
    "bw=1\n",
    "lw=bw-aw\n",
    "k=1\n",
    "while k<=n:\n",
    "    print(\"\")\n",
    "    print('iteration no =',k)\n",
    "    w1=aw+(0.618)*lw\n",
    "    w2=bw-(0.618)*lw\n",
    "    print('w1=%f,w2=%f' %(w1,w2))\n",
    "    if fw(w1)>fw(w2):\n",
    "        bw=w1\n",
    "        print('fw(w1)>fw(w2)ie %f > %f' %(fw(w1),fw(w2)))\n",
    "    elif fw(w1)<f(w2):\n",
    "        aw=w2\n",
    "        print('fw(w1)<f(w2)ie %f < %f' %(fw(w1),fw(w2)))\n",
    "    lw=bw-aw\n",
    "    print('new intervals (%f,%f)'%(aw,bw))\n",
    "    k=k+1\n",
    "print(\"aw=%f\" %(aw))\n",
    "print(\"bw=%f\" %(bw))\n",
    "print(\"lw=%f\" %(lw))\n",
    "print('%f<w<%f' %(aw,bw))\n",
    "print('%f<x<%f' %(aw*(b-a)+a,bw*(b-a)+a))\n",
    "print('minimum lies in (%f,%f)' %(aw*(b-a)+a,bw*(b-a)+a) )\n"
   ]
  },
  {
   "cell_type": "code",
   "execution_count": null,
   "metadata": {},
   "outputs": [],
   "source": []
  }
 ],
 "metadata": {
  "kernelspec": {
   "display_name": "Python 3",
   "language": "python",
   "name": "python3"
  },
  "language_info": {
   "codemirror_mode": {
    "name": "ipython",
    "version": 3
   },
   "file_extension": ".py",
   "mimetype": "text/x-python",
   "name": "python",
   "nbconvert_exporter": "python",
   "pygments_lexer": "ipython3",
   "version": "3.8.3"
  }
 },
 "nbformat": 4,
 "nbformat_minor": 4
}
