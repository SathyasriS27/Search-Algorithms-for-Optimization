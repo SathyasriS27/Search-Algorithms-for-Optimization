{
 "cells": [
  {
   "cell_type": "code",
   "execution_count": 3,
   "metadata": {},
   "outputs": [
    {
     "name": "stdout",
     "output_type": "stream",
     "text": [
      "enter a0\n",
      "enter b5\n",
      "enter termination pparameter0.4\n",
      "\n",
      "\n",
      "*** Interval halving method ***\n",
      "iteration number= 1\n",
      "x1= 1.25 \t xm= 2.5 \t x2= 3.75\n",
      "\n",
      "Fx1= 44.7625 \t Fxm= 27.85 \t Fx2= 28.4625\n",
      "\n",
      "iteration number= 2\n",
      "x1= 1.875 \t xm= 2.5 \t x2= 3.125\n",
      "\n",
      "Fx1= 32.315625 \t Fxm= 27.85 \t Fx2= 27.045625\n",
      "\n",
      "iteration number= 3\n",
      "x1= 2.8125 \t xm= 3.125 \t x2= 3.4375\n",
      "\n",
      "Fx1= 27.11015625 \t Fxm= 27.045625 \t Fx2= 27.52549715909091\n",
      "\n",
      "iteration number= 4\n",
      "x1= 2.96875 \t xm= 3.125 \t x2= 3.28125\n",
      "\n",
      "Fx1= 27.002950246710526 \t Fxm= 27.045625 \t Fx2= 27.223744419642856\n",
      "\n",
      "minimum lies in( 2.8125 , 3.125 )\n"
     ]
    }
   ],
   "source": [
    "#interval halving method - interval is given , termination parameter is given \n",
    "import math \n",
    "def f(x):\n",
    "    return float((x**2)+(54/x))\n",
    "a=float(input(\"enter a\"))\n",
    "b=float(input(\"enter b\"))\n",
    "e=float(input(\"enter termination pparameter\"))\n",
    "i=1\n",
    "print('\\n\\n*** Interval halving method ***')\n",
    "condition=True\n",
    "while condition:\n",
    "    print(\"iteration number=\",i)\n",
    "    i=i+1\n",
    "    L=b-a\n",
    "    xm=(a+b)/2\n",
    "    x1=a+(L/4)\n",
    "    x2=b-(L/4)\n",
    "    Fx1=f(x1)\n",
    "    Fx2=f(x2)\n",
    "    Fxm=f(xm)\n",
    "    print(\"x1=\",x1,\"\\t xm=\",xm,\"\\t x2=\",x2)\n",
    "    print(\"\")\n",
    "    print(\"Fx1=\",Fx1,\"\\t Fxm=\",Fxm,\"\\t Fx2=\",Fx2)\n",
    "    print(\"\")\n",
    "    if(Fx1<Fxm):\n",
    "        b=xm\n",
    "        L=b-a\n",
    "        if(abs(L)<e):\n",
    "            print(\"minimum lies in(\",a,\",\",b,\")\")\n",
    "            break\n",
    "        else:\n",
    "            continue\n",
    "    if(Fx2<Fxm):\n",
    "        a=xm\n",
    "        L=b-a\n",
    "        if(abs(L)<e):\n",
    "            print(\"minimum lies in(\",a,\",\",b,\")\")\n",
    "            break\n",
    "    else:\n",
    "        a=x1\n",
    "        b=x2\n",
    "        continue\n"
   ]
  },
  {
   "cell_type": "code",
   "execution_count": 4,
   "metadata": {},
   "outputs": [
    {
     "name": "stdout",
     "output_type": "stream",
     "text": [
      "enter the starting interval1\n",
      "enter the ending interval5\n",
      "enter the number of iterations3\n",
      "\n",
      "iteration no. =  1\n",
      "\n",
      "x1 = 2 ,xm = 3 ,x2 =  4\n",
      "fx1 = -14.02273923539052902231816233  ,fxm = -9.273274844201279454303232796  ,fx2 = 40.97703027262601171987199674\n",
      "Minimum Lies in the interval ( 1 , 3 )\n",
      "\n",
      "iteration no. =  2\n",
      "\n",
      "x1 = 1.5 ,xm = 2 ,x2 =  2.5\n",
      "fx1 = -1.795142862169972486352520490  ,fxm = -14.02273923539052902231816233  ,fx2 = -16.43068866776818265362791748\n",
      "Minimum Lies in the interval ( 2 , 3 )\n",
      "\n",
      "iteration no. =  3\n",
      "\n",
      "x1 = 2.25 ,xm = 2.5 ,x2 =  2.75\n",
      "fx1 = -16.81377880072833097546691760  ,fxm = -16.43068866776818265362791748  ,fx2 = -13.57896529436254839939834937\n",
      "Minimum Lies in the interval ( 2 , 2.5 )\n"
     ]
    }
   ],
   "source": [
    "#Interval Halving method - interval is given , no. of iterations is given \n",
    "import math\n",
    "from decimal import Decimal\n",
    "def f(x):\n",
    "    return Decimal(x**4 - (5*(x**3)) + (2*Decimal(math.exp(x))) -(5*Decimal(math.cos(3*x))))\n",
    "a=Decimal(input(\"enter the starting interval\"))\n",
    "b=Decimal(input(\"enter the ending interval\"))\n",
    "j=Decimal(input(\"enter the number of iterations\"))\n",
    "i=1\n",
    "while True :\n",
    "    print(\"\")\n",
    "    print(\"iteration no. = \", i)\n",
    "    i=i+1\n",
    "    L=b-a\n",
    "    xm=(a+b)/2\n",
    "    x1=a+(L/4)\n",
    "    x2=b-(L/4)\n",
    "    fx1=f(x1)\n",
    "    fxm=f(xm)\n",
    "    fx2=f(x2)\n",
    "    print(\"\")\n",
    "    print(\"x1 =\",x1,\",xm =\",xm ,\",x2 = \",x2)\n",
    "    print(\"fx1 =\",fx1,\" ,fxm =\",fxm,\" ,fx2 =\",fx2)\n",
    "    if fx1<fxm:\n",
    "        b=xm\n",
    "        L=b-a\n",
    "        print(\"Minimum Lies in the interval (\",a,\",\",b,\")\")\n",
    "    elif fx2<fxm:\n",
    "        a=xm \n",
    "        L=b-a\n",
    "        print(\"Minimum Lies in the interval (\",a,\",\",b,\")\")\n",
    "    else:\n",
    "        print(\"invalid\")\n",
    "        break\n",
    "    if i>j:\n",
    "        break\n",
    "    else:\n",
    "        continue\n"
   ]
  },
  {
   "cell_type": "code",
   "execution_count": 5,
   "metadata": {},
   "outputs": [
    {
     "name": "stdout",
     "output_type": "stream",
     "text": [
      "enter the starting interval200\n",
      "enter the ending interval212\n",
      "enter the termination parameter0.7\n",
      "the number of iterations it takes to find the minimum is  5\n"
     ]
    }
   ],
   "source": [
    "#Interval Halving method - termination parameter is given , interval is given f(x) not given \n",
    "import math\n",
    "from decimal import Decimal\n",
    "a=Decimal(input(\"enter the starting interval\"))\n",
    "b=Decimal(input(\"enter the ending interval\"))\n",
    "E=Decimal(input(\"enter the termination parameter\"))\n",
    "L=b-a\n",
    "n=1\n",
    "while True :\n",
    "    L_finalint=(b-a)/(pow(2,n))\n",
    "    if L_finalint<E:\n",
    "        print(\"the number of iterations it takes to find the minimum is \",n)\n",
    "        break \n",
    "    else:\n",
    "        n=n+1\n",
    "        continue\n"
   ]
  },
  {
   "cell_type": "code",
   "execution_count": null,
   "metadata": {},
   "outputs": [],
   "source": []
  }
 ],
 "metadata": {
  "kernelspec": {
   "display_name": "Python 3",
   "language": "python",
   "name": "python3"
  },
  "language_info": {
   "codemirror_mode": {
    "name": "ipython",
    "version": 3
   },
   "file_extension": ".py",
   "mimetype": "text/x-python",
   "name": "python",
   "nbconvert_exporter": "python",
   "pygments_lexer": "ipython3",
   "version": "3.8.3"
  }
 },
 "nbformat": 4,
 "nbformat_minor": 4
}
