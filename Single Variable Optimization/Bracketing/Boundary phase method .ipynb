{
 "cells": [
  {
   "cell_type": "code",
   "execution_count": 1,
   "metadata": {},
   "outputs": [
    {
     "name": "stdout",
     "output_type": "stream",
     "text": [
      "x0-d = 0.5\n",
      "x0 = 1\n",
      "x0+d = 1.5\n",
      "\n",
      "fx0-d = 22.09147098480789650487565723\n",
      "fx0 = 22.90929742682568170941692642\n",
      "fx0+d = 23.39112000805986721352347502\n",
      "\n",
      "d is negative- so search left\n",
      "\n",
      "x1= x0 + 2^0*d = 1 + -0.5 = 0.5\n",
      "x2= x1 + 2^1*d = 0.5 + -1.0 = -0.5\n",
      "x3= x2 + 2^2*d = -0.5 + -2.0 = -2.5\n",
      "\n",
      "Minimum Lies in the interval ( 0.5 , -2.5 )\n"
     ]
    }
   ],
   "source": [
    "#Boundary phase method - starting interval is given , del value is given \n",
    "import math\n",
    "from decimal import Decimal\n",
    "def f(x):\n",
    "    return Decimal(Decimal(math.sin(2*x))+(x**2)+21)\n",
    "x=[]\n",
    "fxx=[]\n",
    "x.append(Decimal(1))\n",
    "fxx.append(f(x[0]))\n",
    "d=Decimal(0.5)\n",
    "search=True\n",
    "a1=x[0]-abs(d)\n",
    "b1=x[0]+abs(d)\n",
    "a=f(x[0]-abs(d))\n",
    "b=f(x[0]+abs(d))\n",
    "x0=x[0]\n",
    "f0=fxx[0]\n",
    "print(\"x0-d =\",a1)\n",
    "print(\"x0 =\",x0)\n",
    "print(\"x0+d =\",b1)\n",
    "print(\"\")\n",
    "print(\"fx0-d =\",a)\n",
    "print(\"fx0 =\",f0)\n",
    "print(\"fx0+d =\",b)\n",
    "print(\"\")\n",
    "if a>=fxx[0] and fxx[0]>=b:\n",
    "    d=d\n",
    "    print(\"d is positive- so search right\")\n",
    "elif a<=fxx[0] and fxx[0]<=b:\n",
    "    d=-d\n",
    "    print(\"d is negative- so search left\")\n",
    "elif a>=fxx[0] and fxx[0] <=b:\n",
    "    print(\"Search complete\")\n",
    "    search=False\n",
    "else :\n",
    "    print(\"Choose a different x0\")\n",
    "k=0\n",
    "print(\"\")\n",
    "while search:\n",
    "    x.append(x[k]+(2**k)*(d))\n",
    "    fxx.append(f(x[k+1]))\n",
    "    print(f\"x{(k+1)}= x{k} + 2^{k}*d = {x[k]} + {(2**k) * (d)} = {x[k+1]}\")\n",
    "    if fxx[k+1]<fxx[k]:\n",
    "        k+=1\n",
    "    else : \n",
    "        print(\"\")\n",
    "        x1=x[k-1]\n",
    "        x2=x[k+1]\n",
    "        print(\"Minimum Lies in the interval (\",x1,\",\",x2,\")\")\n",
    "        break\n"
   ]
  },
  {
   "cell_type": "code",
   "execution_count": null,
   "metadata": {},
   "outputs": [],
   "source": []
  }
 ],
 "metadata": {
  "kernelspec": {
   "display_name": "Python 3",
   "language": "python",
   "name": "python3"
  },
  "language_info": {
   "codemirror_mode": {
    "name": "ipython",
    "version": 3
   },
   "file_extension": ".py",
   "mimetype": "text/x-python",
   "name": "python",
   "nbconvert_exporter": "python",
   "pygments_lexer": "ipython3",
   "version": "3.8.3"
  }
 },
 "nbformat": 4,
 "nbformat_minor": 4
}
