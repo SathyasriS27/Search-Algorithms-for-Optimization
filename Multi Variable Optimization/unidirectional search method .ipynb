{
 "cells": [
  {
   "cell_type": "code",
   "execution_count": 1,
   "metadata": {},
   "outputs": [
    {
     "name": "stdout",
     "output_type": "stream",
     "text": [
      "Enter number of dimensions : 3\n",
      "now input the input starting point co-ordinates\n",
      "input point coordinates  1\n",
      "input point coordinates  2\n",
      "input point coordinates  3\n",
      "[1 2 3]\n",
      "Now enter the directional coordinates \n",
      "input directional coordinates = 0\n",
      "input directional coordinates = 1\n",
      "input directional coordinates = 0\n",
      "[0 1 0]\n",
      "f(x(t))=\n",
      "-3*t + (t + 1)**2 - 1\n",
      "f'(x(t))=\n",
      "2*t - 1\n",
      "soln of f'x(t)\n",
      "[1/2]\n",
      "f\"(x(t))=\n",
      "2\n",
      "at 0.500000 f\"(t) is greater than zero\n",
      "minimum is in the direction of\n",
      "1\n",
      "3/2\n",
      "1\n"
     ]
    }
   ],
   "source": [
    "#unidirectional search method - starting point is given , direction is also given \n",
    "import sympy as sy\n",
    "import numpy as np\n",
    "def f(x,y,z):\n",
    "    f=2*(x**2)-2*(x*y)+(y**2)-z-(y*x)+(z**2)\n",
    "    return f\n",
    "point = [] \n",
    "dvector = []\n",
    "n = int(input(\"Enter number of dimensions : \")) \n",
    "print(\"now input the input starting point co-ordinates\")\n",
    "for i in range(0, n): \n",
    "    c = int(input(\"input point coordinates  \")) \n",
    "    point.append(c)  \n",
    "a=np.array(point)\n",
    "print(a)\n",
    "print(\"Now enter the directional coordinates \")\n",
    "for i in range(0, n): \n",
    "    c = int(input(\"input directional coordinates = \")) \n",
    "    dvector.append(c)\n",
    "b=np.array(dvector) \n",
    "print(b)\n",
    "t=sy.Symbol('t')\n",
    "x=[]\n",
    "for i in b:\n",
    "    x.append(i*t)\n",
    "    y=np.array(x+a[i])\n",
    "print('f(x(t))=')\n",
    "print(f(*y))\n",
    "e=sy.diff(f(*y))\n",
    "print(\"f'(x(t))=\")\n",
    "print(e) \n",
    "d=sy.solve(e) \n",
    "print(\"soln of f'x(t)\") \n",
    "print(d)\n",
    "g=sy.diff(sy.diff(f(*y)))\n",
    "print('f\"(x(t))=')\n",
    "print(g)\n",
    "i=0\n",
    "while i < (len(d)):\n",
    "    if g.subs(t, d[i]) > 0:\n",
    "        print('at %f f\"(t) is greater than zero' %(d[i]))\n",
    "        l=i\n",
    "    else:\n",
    "        print('at %f f\"(t) is less than than zero' %(d[i]))\n",
    "    i += 1\n",
    "print('minimum is in the direction of')\n",
    "j=0\n",
    "while j<len(y):\n",
    "    m=y[j].subs(t,d[l])\n",
    "    print(m)\n",
    "    j += 1\n",
    "\n",
    "\n",
    "\n"
   ]
  },
  {
   "cell_type": "code",
   "execution_count": null,
   "metadata": {},
   "outputs": [],
   "source": []
  },
  {
   "cell_type": "code",
   "execution_count": null,
   "metadata": {},
   "outputs": [],
   "source": []
  }
 ],
 "metadata": {
  "kernelspec": {
   "display_name": "Python 3",
   "language": "python",
   "name": "python3"
  },
  "language_info": {
   "codemirror_mode": {
    "name": "ipython",
    "version": 3
   },
   "file_extension": ".py",
   "mimetype": "text/x-python",
   "name": "python",
   "nbconvert_exporter": "python",
   "pygments_lexer": "ipython3",
   "version": "3.8.3"
  }
 },
 "nbformat": 4,
 "nbformat_minor": 4
}
